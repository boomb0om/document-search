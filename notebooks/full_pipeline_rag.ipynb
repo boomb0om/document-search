{
 "cells": [
  {
   "cell_type": "code",
   "execution_count": 1,
   "metadata": {},
   "outputs": [],
   "source": [
    "import sys\n",
    "sys.path.append(\"../\")\n",
    "import io\n",
    "\n",
    "from document_search.ocr import DocumentReader, EntityProcessor\n"
   ]
  },
  {
   "cell_type": "code",
   "execution_count": 2,
   "metadata": {},
   "outputs": [],
   "source": [
    "documents = [\n",
    "    \"../data/SP-51.13330.2011.pdf\",\n",
    "    \"../data/SP-60.13330.2020.pdf\"\n",
    "]\n"
   ]
  },
  {
   "cell_type": "code",
   "execution_count": 3,
   "metadata": {},
   "outputs": [
    {
     "name": "stdout",
     "output_type": "stream",
     "text": [
      "../data/SP-51.13330.2011.pdf []\n",
      "../data/SP-60.13330.2020.pdf []\n"
     ]
    }
   ],
   "source": [
    "doc_reader = DocumentReader()\n",
    "\n",
    "raw_documents = []\n",
    "processed_docs = []\n",
    "for document_path in documents:\n",
    "    with open(document_path, 'rb') as f:\n",
    "        raw_documents.append(io.BytesIO(f.read()))\n",
    "\n",
    "    processed_doc, errors = doc_reader.read(document_path)\n",
    "    print(document_path, errors)\n",
    "    processed_doc.entities = EntityProcessor.merge_text_entities(processed_doc.entities)\n",
    "    processed_doc.entities = EntityProcessor.filter_short_entities(processed_doc.entities)\n",
    "    processed_docs.append(processed_doc)\n"
   ]
  },
  {
   "cell_type": "code",
   "execution_count": 4,
   "metadata": {},
   "outputs": [
    {
     "name": "stderr",
     "output_type": "stream",
     "text": [
      "/home/atom/igor/hacks/document-search/notebooks/../document_search/search/embedders.py:11: LangChainDeprecationWarning: The class `HuggingFaceEmbeddings` was deprecated in LangChain 0.2.2 and will be removed in 1.0. An updated version of the class exists in the langchain-huggingface package and should be used instead. To use it run `pip install -U langchain-huggingface` and import as `from langchain_huggingface import HuggingFaceEmbeddings`.\n",
      "  self.embedder = HuggingFaceEmbeddings(\n",
      "/home/atom/anaconda3/envs/doc-search2/lib/python3.10/site-packages/sentence_transformers/cross_encoder/CrossEncoder.py:11: TqdmWarning: IProgress not found. Please update jupyter and ipywidgets. See https://ipywidgets.readthedocs.io/en/stable/user_install.html\n",
      "  from tqdm.autonotebook import tqdm, trange\n"
     ]
    }
   ],
   "source": [
    "from document_search.storages import DocumentStorageE5\n",
    "from document_search.search import TextEntityEmbedderE5\n",
    "\n",
    "embedder = TextEntityEmbedderE5()\n",
    "storage = DocumentStorageE5(embedder)\n"
   ]
  },
  {
   "cell_type": "code",
   "execution_count": 5,
   "metadata": {},
   "outputs": [
    {
     "name": "stderr",
     "output_type": "stream",
     "text": [
      "  0%|          | 0/54 [00:00<?, ?it/s]"
     ]
    },
    {
     "name": "stderr",
     "output_type": "stream",
     "text": [
      "55it [00:55,  1.00s/it]                        \n",
      "120it [00:57,  2.08it/s]                         \n"
     ]
    }
   ],
   "source": [
    "for doc, raw_doc in zip(processed_docs, raw_documents):\n",
    "    storage.add_document(doc, raw_doc, pbar=True)\n"
   ]
  },
  {
   "cell_type": "code",
   "execution_count": 6,
   "metadata": {
    "collapsed": false
   },
   "outputs": [],
   "source": [
    "from document_search.rag.retrievers import YandexGPTRetriever\n"
   ]
  },
  {
   "cell_type": "code",
   "execution_count": 7,
   "metadata": {
    "collapsed": false
   },
   "outputs": [
    {
     "name": "stderr",
     "output_type": "stream",
     "text": [
      "/home/atom/igor/hacks/document-search/notebooks/../document_search/rag/retrievers.py:26: LangChainDeprecationWarning: The class `LLMChain` was deprecated in LangChain 0.1.17 and will be removed in 1.0. Use RunnableSequence, e.g., `prompt | llm` instead.\n",
      "  self.llm_chain = LLMChain(llm=self.llm, prompt=self.prompt)\n"
     ]
    }
   ],
   "source": [
    "rag_retriever = YandexGPTRetriever(embedder=embedder, storage=storage)\n"
   ]
  },
  {
   "cell_type": "code",
   "execution_count": 8,
   "metadata": {},
   "outputs": [],
   "source": [
    "query = \"какие трубопроводы не допускается прокладывать через помещения вентиляционного оборудования?\"\n"
   ]
  },
  {
   "cell_type": "code",
   "execution_count": 17,
   "metadata": {},
   "outputs": [
    {
     "name": "stdout",
     "output_type": "stream",
     "text": [
      "**Ответ на вопрос:**\n",
      "\n",
      "Через помещения, в которых размещено вентиляционное оборудование, **не допускается прокладка трубопроводов с легковоспламеняющимися и горючими жидкостями и газами, а также канализационных трубопроводов, кроме ливневой канализации и водоотведения из вышележащих помещений**.\n",
      "\n",
      "Это требование указано в пункте 10.6 документа.\n",
      "\n",
      "**Обоснование:**\n",
      "\n",
      "В пункте 10.3 указано, что помещения для вентиляционного оборудования должны быть расположены в пределах обслуживаемого пожарного отсека или за его пределами согласно сводам правил по пожарной безопасности.\n",
      "\n",
      "Пункт 10.5 запрещает размещать под помещениями с массовым пребыванием людей помещения с пылеуловителями для сухой очистки взрывоопасных смесей.\n",
      "\n",
      "В пункте 10.6 говорится, что через помещения для вентиляционного оборудования не допускаются трубопроводы с легковоспламеняющимися и горючими жидкостями и газами. Также запрещено прокладывать канализационные трубопроводы, кроме ливневой канализации и трубопроводов водоотведения из вышележащих помещений.\n",
      "\n",
      "Таким образом, можно сделать вывод, что данное требование связано с обеспечением пожарной безопасности и предотвращением возможных аварий. Прокладка трубопроводов с легковоспламеняющимися веществами в помещениях с вентиляционным оборудованием может привести к возгоранию и распространению огня. Кроме того, канализационные трубопроводы могут создавать дополнительные риски для безопасности и требуют особого внимания при проектировании и эксплуатации.\n"
     ]
    }
   ],
   "source": [
    "answer = rag_retriever.retrieve_answer(query, k=1, context_length=0)\n",
    "print(answer)\n"
   ]
  },
  {
   "cell_type": "code",
   "execution_count": 14,
   "metadata": {
    "collapsed": false
   },
   "outputs": [],
   "source": [
    "data, answer = rag_retriever.retrieve_answer_detailed(query, k=5, rag_k=1, context_length=0)\n"
   ]
  },
  {
   "cell_type": "code",
   "execution_count": 15,
   "metadata": {
    "collapsed": false
   },
   "outputs": [
    {
     "name": "stdout",
     "output_type": "stream",
     "text": [
      "**Ответ:**\n",
      "\n",
      "В соответствии с требованиями, изложенными в пункте 10.6, через помещения для вентиляционного оборудования **не допускается прокладывать следующие трубопроводы**:\n",
      "\n",
      "а) с легковоспламеняющимися и горючими жидкостями и газами;\n",
      "\n",
      "б) канализационные с прочистками и ревизиями (кроме трубопроводов ливневой канализации и водоотведения из вышележащих помещений для вентиляционного оборудования, в том числе от вентиляционного оборудования).\n",
      "\n",
      "**Обоснование ответа**:\n",
      "\n",
      "Данный пункт указывает на то, что через помещения, предназначенные для размещения вентиляционного оборудования, запрещено прокладывать трубопроводы, по которым транспортируются легковоспламеняющиеся и горючие жидкости и газы, а также канализационные трубопроводы с прочистками и ревизиями, за исключением ливневой канализации и трубопроводов, предназначенных для отвода сточных вод из вышележащих помещений, включая стоки от самого вентиляционного оборудования.\n",
      "\n",
      "Информация о том, какие именно трубопроводы относятся к легковоспламеняющимся и горючим жидкостям и газам, а также о требованиях к ливневой канализации и трубопроводам водоотведения из вышележащих помещений в документе не уточняется. Для получения более точных и конкретных сведений по этому вопросу необходимо обратиться к дополнительным источникам информации или специалистам в данной области.\n"
     ]
    }
   ],
   "source": [
    "print(answer)\n"
   ]
  },
  {
   "cell_type": "code",
   "execution_count": null,
   "metadata": {
    "collapsed": false
   },
   "outputs": [],
   "source": []
  }
 ],
 "metadata": {
  "kernelspec": {
   "display_name": "doc-search2",
   "language": "python",
   "name": "python3"
  },
  "language_info": {
   "codemirror_mode": {
    "name": "ipython",
    "version": 3
   },
   "file_extension": ".py",
   "mimetype": "text/x-python",
   "name": "python",
   "nbconvert_exporter": "python",
   "pygments_lexer": "ipython3",
   "version": "3.10.14"
  }
 },
 "nbformat": 4,
 "nbformat_minor": 4
}
