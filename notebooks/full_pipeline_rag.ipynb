{
 "cells": [
  {
   "cell_type": "code",
   "execution_count": 1,
   "metadata": {},
   "outputs": [],
   "source": [
    "import sys\n",
    "sys.path.append(\"../\")\n",
    "import io\n",
    "\n",
    "from document_search.ocr import DocumentReader, EntityProcessor\n"
   ]
  },
  {
   "cell_type": "code",
   "execution_count": 2,
   "metadata": {},
   "outputs": [],
   "source": [
    "documents = [\n",
    "    \"../data/SP-51.13330.2011.pdf\",\n",
    "    \"../data/SP-60.13330.2020.pdf\"\n",
    "]\n"
   ]
  },
  {
   "cell_type": "code",
   "execution_count": 3,
   "metadata": {},
   "outputs": [
    {
     "name": "stdout",
     "output_type": "stream",
     "text": [
      "../data/SP-51.13330.2011.pdf []\n",
      "../data/SP-60.13330.2020.pdf []\n"
     ]
    }
   ],
   "source": [
    "doc_reader = DocumentReader()\n",
    "\n",
    "raw_documents = []\n",
    "processed_docs = []\n",
    "for document_path in documents:\n",
    "    with open(document_path, 'rb') as f:\n",
    "        raw_documents.append(io.BytesIO(f.read()))\n",
    "\n",
    "    processed_doc, errors = doc_reader.read(document_path)\n",
    "    print(document_path, errors)\n",
    "    processed_doc.entities = EntityProcessor.merge_text_entities(processed_doc.entities)\n",
    "    processed_doc.entities = EntityProcessor.filter_short_entities(processed_doc.entities)\n",
    "    processed_docs.append(processed_doc)\n"
   ]
  },
  {
   "cell_type": "code",
   "execution_count": 4,
   "metadata": {},
   "outputs": [
    {
     "name": "stderr",
     "output_type": "stream",
     "text": [
      "/home/atom/igor/hacks/document-search/notebooks/../document_search/search/embedders.py:11: LangChainDeprecationWarning: The class `HuggingFaceEmbeddings` was deprecated in LangChain 0.2.2 and will be removed in 1.0. An updated version of the class exists in the langchain-huggingface package and should be used instead. To use it run `pip install -U langchain-huggingface` and import as `from langchain_huggingface import HuggingFaceEmbeddings`.\n",
      "  self.embedder = HuggingFaceEmbeddings(\n",
      "/home/atom/anaconda3/envs/doc-search2/lib/python3.10/site-packages/sentence_transformers/cross_encoder/CrossEncoder.py:11: TqdmWarning: IProgress not found. Please update jupyter and ipywidgets. See https://ipywidgets.readthedocs.io/en/stable/user_install.html\n",
      "  from tqdm.autonotebook import tqdm, trange\n"
     ]
    }
   ],
   "source": [
    "from document_search.storages import DocumentStorageE5\n",
    "from document_search.search import TextEntityEmbedderE5\n",
    "\n",
    "embedder = TextEntityEmbedderE5()\n",
    "storage = DocumentStorageE5(embedder)\n"
   ]
  },
  {
   "cell_type": "code",
   "execution_count": 5,
   "metadata": {},
   "outputs": [
    {
     "name": "stderr",
     "output_type": "stream",
     "text": [
      "55it [00:48,  1.13it/s]                        \n",
      "120it [00:48,  2.46it/s]                         \n"
     ]
    }
   ],
   "source": [
    "for doc, raw_doc in zip(processed_docs, raw_documents):\n",
    "    storage.add_document(doc, raw_doc, pbar=True)\n"
   ]
  },
  {
   "cell_type": "code",
   "execution_count": 31,
   "metadata": {},
   "outputs": [
    {
     "data": {
      "text/plain": [
       "[(TextDocEntity(position=EntityPosition(document_name='SP-60.13330.2020.pdf', page_number=110, document_id='2a39bce37829487caaf5cc59df4afa13'), text='Допустимый эквивалентный уровень шума, дБА'),\n",
       "  0.85343045),\n",
       " (TextDocEntity(position=EntityPosition(document_name='SP-60.13330.2020.pdf', page_number=110, document_id='2a39bce37829487caaf5cc59df4afa13'), text='Число струй'),\n",
       "  0.846436),\n",
       " (TextDocEntity(position=EntityPosition(document_name='SP-60.13330.2020.pdf', page_number=8, document_id='2a39bce37829487caaf5cc59df4afa13'), text='Примечание - Для систем аварийной вентиляции при работе или опробовании в помещениях, где установлено это оборудование, допускается согласно ГОСТ 12.1.003 источник шума не более 110 дБА постоянной звуковой мощности, а импульсный шум - не более 125 дБА звуковой мощности;'),\n",
       "  0.8450053)]"
      ]
     },
     "execution_count": 31,
     "metadata": {},
     "output_type": "execute_result"
    }
   ],
   "source": [
    "storage.get_relevant_entities(\"постоянный шум\", k=3, document_ids=['2a39bce37829487caaf5cc59df4afa13'])\n"
   ]
  },
  {
   "cell_type": "code",
   "execution_count": null,
   "metadata": {},
   "outputs": [],
   "source": []
  },
  {
   "cell_type": "code",
   "execution_count": 6,
   "metadata": {
    "collapsed": false
   },
   "outputs": [],
   "source": [
    "from document_search.rag.retrievers import YandexGPTRetriever\n"
   ]
  },
  {
   "cell_type": "code",
   "execution_count": 7,
   "metadata": {
    "collapsed": false
   },
   "outputs": [
    {
     "name": "stderr",
     "output_type": "stream",
     "text": [
      "/home/atom/igor/hacks/document-search/notebooks/../document_search/rag/retrievers.py:26: LangChainDeprecationWarning: The class `LLMChain` was deprecated in LangChain 0.1.17 and will be removed in 1.0. Use RunnableSequence, e.g., `prompt | llm` instead.\n",
      "  self.llm_chain = LLMChain(llm=self.llm, prompt=self.prompt)\n"
     ]
    }
   ],
   "source": [
    "rag_retriever = YandexGPTRetriever(embedder=embedder, storage=storage)\n"
   ]
  },
  {
   "cell_type": "code",
   "execution_count": 9,
   "metadata": {},
   "outputs": [],
   "source": [
    "query = \"какие трубопроводы не допускается прокладывать через помещения вентиляционного оборудования?\"\n"
   ]
  },
  {
   "cell_type": "code",
   "execution_count": 9,
   "metadata": {},
   "outputs": [
    {
     "name": "stderr",
     "output_type": "stream",
     "text": [
      "/home/atom/igor/hacks/document-search/notebooks/../document_search/rag/retrievers.py:41: LangChainDeprecationWarning: The method `Chain.run` was deprecated in langchain 0.1.0 and will be removed in 1.0. Use invoke instead.\n",
      "  answer: str = self.llm_chain.run(\n"
     ]
    },
    {
     "name": "stdout",
     "output_type": "stream",
     "text": [
      "Ответ:\n",
      "\n",
      "Через помещение для вентиляционного оборудования не допускается прокладывать трубопроводы с легковоспламеняющимися и горючими жидкостями и газами, а также канализационные трубопроводы с прочистками и ревизиями (кроме трубопроводов ливневой канализации и водоотведения из вышележащих помещений для вентиляционного оборудования).\n",
      "\n",
      "В приведённом контексте нет информации о том, какие ещё трубопроводы нельзя прокладывать через помещения вентиляционного оборудования.\n",
      "\n",
      "Для точного ответа на вопрос пользователя не хватает данных о типе вентиляционного оборудования, характеристиках помещения, в котором оно расположено, и других особенностях системы вентиляции.\n"
     ]
    }
   ],
   "source": [
    "answer = rag_retriever.retrieve_answer(query, k=1, context_length=0)\n",
    "print(answer)\n"
   ]
  },
  {
   "cell_type": "code",
   "execution_count": 32,
   "metadata": {
    "collapsed": false
   },
   "outputs": [],
   "source": [
    "data, answer = rag_retriever.retrieve_answer_detailed(\n",
    "    query, \n",
    "    k=5, rag_k=1, context_length=0\n",
    ")\n"
   ]
  },
  {
   "cell_type": "code",
   "execution_count": 33,
   "metadata": {
    "collapsed": false
   },
   "outputs": [
    {
     "name": "stdout",
     "output_type": "stream",
     "text": [
      "**Ответ:**\n",
      "\n",
      "Согласно предоставленным отрывкам из документов, трубопроводы с легковоспламеняющимися и горючими жидкостями и газами, а также канализационные трубопроводы с прочистками и ревизиями (кроме трубопроводов ливневой канализации и водоотведения из вышележащих помещений для вентиляционного оборудования, в том числе от вентиляционного оборудования) не допускается прокладывать через помещения для вентиляционного оборудования.\n",
      "\n",
      "Однако предоставленная информация может быть неполной, поскольку в ней нет прямого указания на то, что другие виды трубопроводов можно прокладывать через указанные помещения. \n",
      "\n",
      "Для получения более точного ответа рекомендуется обратиться к другим нормативным документам или проконсультироваться со специалистами по пожарной безопасности.\n"
     ]
    }
   ],
   "source": [
    "print(answer)\n"
   ]
  },
  {
   "cell_type": "code",
   "execution_count": 34,
   "metadata": {
    "collapsed": false
   },
   "outputs": [
    {
     "data": {
      "text/plain": [
       "[(TextDocEntity(position=EntityPosition(document_name='SP-60.13330.2020.pdf', page_number=66, document_id='2a39bce37829487caaf5cc59df4afa13'), text='10.6  Через  помещение  для  вентиляционного  оборудования  не  допускается  прокладывать трубопроводы:'),\n",
       "  0.91254383),\n",
       " (TextDocEntity(position=EntityPosition(document_name='SP-60.13330.2020.pdf', page_number=77, document_id='2a39bce37829487caaf5cc59df4afa13'), text='Не  допускается  прокладка  магистральных  и  разводящих  трубопроводов  систем  отопления  и внутреннего теплоснабжения через помещения жилых квартир, а также установка в них арматуры и спускных устройств общедомовых систем.'),\n",
       "  0.8962804),\n",
       " (TextDocEntity(position=EntityPosition(document_name='SP-60.13330.2020.pdf', page_number=50, document_id='2a39bce37829487caaf5cc59df4afa13'), text='7.10.14  Оборудование  вытяжных  систем  производственных,  административно-бытовых  и общественных  зданий,  удаляющих  воздух  с  резким  или  неприятным  запахом  (из  общественных уборных,  курительных  комнат  и  др.),  не  допускается  размещать  в  общем  помещении  для вентиляционного оборудования вместе с оборудованием для приточных систем.'),\n",
       "  0.88498735),\n",
       " (TextDocEntity(position=EntityPosition(document_name='SP-60.13330.2020.pdf', page_number=48, document_id='2a39bce37829487caaf5cc59df4afa13'), text='Индивидуальное  оборудование  систем  вентиляции  квартир  в  многоквартирных  домах  не допускается размещать в местах общего пользования и межквартирных коридорах.'),\n",
       "  0.8848341),\n",
       " (TextDocEntity(position=EntityPosition(document_name='SP-60.13330.2020.pdf', page_number=55, document_id='2a39bce37829487caaf5cc59df4afa13'), text='7.11.13  Внутри  воздуховодов,  а  также  снаружи  на  расстоянии  менее  100  мм  от  их  стенок  не допускается  размещать горючими  веществами,  кабели, электропроводку,  токоотводы  и  канализационные  трубопроводы.  Не  допускается  пересечение воздуховодов этими коммуникациями и  другими воздуховодами. В шахтах с  воздуховодами систем вентиляции не допускается прокладывать трубопроводы бытовой и производственной канализации.'),\n",
       "  0.8835836)]"
      ]
     },
     "execution_count": 34,
     "metadata": {},
     "output_type": "execute_result"
    }
   ],
   "source": [
    "data\n"
   ]
  },
  {
   "cell_type": "code",
   "execution_count": null,
   "metadata": {},
   "outputs": [],
   "source": []
  }
 ],
 "metadata": {
  "kernelspec": {
   "display_name": "doc-search2",
   "language": "python",
   "name": "python3"
  },
  "language_info": {
   "codemirror_mode": {
    "name": "ipython",
    "version": 3
   },
   "file_extension": ".py",
   "mimetype": "text/x-python",
   "name": "python",
   "nbconvert_exporter": "python",
   "pygments_lexer": "ipython3",
   "version": "3.10.14"
  }
 },
 "nbformat": 4,
 "nbformat_minor": 4
}
