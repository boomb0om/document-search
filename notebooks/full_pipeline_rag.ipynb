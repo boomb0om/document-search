{
 "cells": [
  {
   "cell_type": "code",
   "execution_count": 1,
   "metadata": {},
   "outputs": [],
   "source": [
    "import sys\n",
    "sys.path.append(\"../\")\n",
    "\n",
    "from document_search.ocr import DocumentReader\n"
   ]
  },
  {
   "cell_type": "code",
   "execution_count": 2,
   "metadata": {},
   "outputs": [],
   "source": [
    "documents = [\n",
    "    \"../data/SP-51.13330.2011.pdf\",\n",
    "    \"../data/SP-60.13330.2020.pdf\"\n",
    "]\n"
   ]
  },
  {
   "cell_type": "code",
   "execution_count": 3,
   "metadata": {},
   "outputs": [],
   "source": [
    "doc_reader = DocumentReader()\n",
    "\n",
    "processed_docs = []\n",
    "for document_path in documents:\n",
    "    processed_doc, errors = doc_reader.process_pdf(document_path)\n",
    "    processed_docs.append(processed_doc)\n"
   ]
  },
  {
   "cell_type": "code",
   "execution_count": 4,
   "metadata": {},
   "outputs": [
    {
     "name": "stderr",
     "output_type": "stream",
     "text": [
      "/Users/stasstaf/PycharmProjects/document-search/document_search/search/embedders.py:11: LangChainDeprecationWarning: The class `HuggingFaceEmbeddings` was deprecated in LangChain 0.2.2 and will be removed in 1.0. An updated version of the class exists in the langchain-huggingface package and should be used instead. To use it run `pip install -U langchain-huggingface` and import as `from langchain_huggingface import HuggingFaceEmbeddings`.\n",
      "  self.embedder = HuggingFaceEmbeddings(\n",
      "/Users/stasstaf/PycharmProjects/document-search/venv2/lib/python3.10/site-packages/sentence_transformers/cross_encoder/CrossEncoder.py:11: TqdmExperimentalWarning: Using `tqdm.autonotebook.tqdm` in notebook mode. Use `tqdm.tqdm` instead to force console mode (e.g. in jupyter console)\n",
      "  from tqdm.autonotebook import tqdm, trange\n"
     ]
    }
   ],
   "source": [
    "from document_search.storages import DocumentStorageE5\n",
    "from document_search.search import TextEntityEmbedderE5\n",
    "\n",
    "embedder = TextEntityEmbedderE5()\n",
    "storage = DocumentStorageE5(embedder)\n"
   ]
  },
  {
   "cell_type": "code",
   "execution_count": 5,
   "metadata": {},
   "outputs": [
    {
     "name": "stderr",
     "output_type": "stream",
     "text": [
      "115it [00:14,  7.86it/s]                         \n",
      "196it [00:27,  7.21it/s]                         \n"
     ]
    }
   ],
   "source": [
    "for doc in processed_docs:\n",
    "    storage.add_document(doc, pbar=True)\n"
   ]
  },
  {
   "cell_type": "code",
   "execution_count": 6,
   "outputs": [],
   "source": [
    "from document_search.RAG.retrievers import RAGRetriever\n"
   ],
   "metadata": {
    "collapsed": false
   }
  },
  {
   "cell_type": "code",
   "execution_count": 7,
   "outputs": [
    {
     "name": "stdout",
     "output_type": "stream",
     "text": [
      "demo_ocr.ipynb          full_pipeline_rag.ipynb\r\n",
      "full_pipeline.ipynb     system_prompt.txt\r\n"
     ]
    },
    {
     "name": "stderr",
     "output_type": "stream",
     "text": [
      "huggingface/tokenizers: The current process just got forked, after parallelism has already been used. Disabling parallelism to avoid deadlocks...\n",
      "To disable this warning, you can either:\n",
      "\t- Avoid using `tokenizers` before the fork if possible\n",
      "\t- Explicitly set the environment variable TOKENIZERS_PARALLELISM=(true | false)\n"
     ]
    }
   ],
   "source": [
    "!ls"
   ],
   "metadata": {
    "collapsed": false
   }
  },
  {
   "cell_type": "code",
   "execution_count": 8,
   "outputs": [
    {
     "name": "stderr",
     "output_type": "stream",
     "text": [
      "/Users/stasstaf/PycharmProjects/document-search/document_search/RAG/retrievers.py:23: LangChainDeprecationWarning: The class `LLMChain` was deprecated in LangChain 0.1.17 and will be removed in 1.0. Use RunnableSequence, e.g., `prompt | llm` instead.\n",
      "  self.llm_chain = LLMChain(llm=self.llm, prompt=self.prompt)\n"
     ]
    }
   ],
   "source": [
    "query = \"какие трубопроводы не допускается прокладывать через помещения вентиляционного оборудования?\"\n",
    "\n",
    "rag_retriever = RAGRetriever(embedder=embedder, storage=storage, path_to_prompt='../document_search/RAG/system_prompt.txt')"
   ],
   "metadata": {
    "collapsed": false
   }
  },
  {
   "cell_type": "code",
   "execution_count": 9,
   "outputs": [
    {
     "name": "stderr",
     "output_type": "stream",
     "text": [
      "/Users/stasstaf/PycharmProjects/document-search/document_search/RAG/retrievers.py:37: LangChainDeprecationWarning: The method `Chain.run` was deprecated in langchain 0.1.0 and will be removed in 1.0. Use invoke instead.\n",
      "  answer = self.llm_chain.run(\n"
     ]
    }
   ],
   "source": [
    "answer = rag_retriever.retrieve_answer(query, k=1, context_length=1)"
   ],
   "metadata": {
    "collapsed": false
   }
  },
  {
   "cell_type": "code",
   "execution_count": 10,
   "outputs": [
    {
     "name": "stdout",
     "output_type": "stream",
     "text": [
      "**Ответ:**\n",
      "\n",
      "В соответствии с приведёнными отрывками из документов, через помещения вентиляционного оборудования не допускается прокладывать трубопроводы с легковоспламеняющимися и горючими жидкостями и газами.\n",
      "\n",
      "Также, согласно пункту 10.6, через помещения для вентиляционного оборудования запрещено прокладывать канализационные трубопроводы, за исключением ливневой канализации и водоотведения из вышележащих помещений. Также не допускаются канализационные трубопроводы с прочистками и ревизиями.\n",
      "\n",
      "Необходимо отметить, что в представленных отрывках не содержится информации о конкретных типах трубопроводов, которые не допускается прокладывать через помещения вентиляционного оборудования. Однако, исходя из общих принципов безопасности и нормативных требований, можно предположить, что через такие помещения не рекомендуется прокладывать трубопроводы с опасными веществами, такими как легковоспламеняющиеся и горючие жидкости и газы, а также канализационные системы с прочистками и ревизиями.\n"
     ]
    }
   ],
   "source": [
    "print(answer)"
   ],
   "metadata": {
    "collapsed": false
   }
  },
  {
   "cell_type": "code",
   "execution_count": 10,
   "outputs": [],
   "source": [],
   "metadata": {
    "collapsed": false
   }
  }
 ],
 "metadata": {
  "kernelspec": {
   "display_name": "venv2",
   "language": "python",
   "name": "venv2"
  },
  "language_info": {
   "codemirror_mode": {
    "name": "ipython",
    "version": 3
   },
   "file_extension": ".py",
   "mimetype": "text/x-python",
   "name": "python",
   "nbconvert_exporter": "python",
   "pygments_lexer": "ipython3",
   "version": "3.10.15"
  }
 },
 "nbformat": 4,
 "nbformat_minor": 4
}
