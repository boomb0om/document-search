{
 "cells": [
  {
   "cell_type": "code",
   "execution_count": 7,
   "metadata": {},
   "outputs": [],
   "source": [
    "import sys\n",
    "sys.path.append(\"../\")\n",
    "import io\n",
    "\n",
    "from document_search.ocr import DocumentReader, EntityProcessor\n"
   ]
  },
  {
   "cell_type": "code",
   "execution_count": 2,
   "metadata": {},
   "outputs": [],
   "source": [
    "documents = [\n",
    "    \"../data/SP-51.13330.2011.pdf\",\n",
    "    \"../data/SP-60.13330.2020.pdf\"\n",
    "]\n"
   ]
  },
  {
   "cell_type": "code",
   "execution_count": 8,
   "metadata": {},
   "outputs": [
    {
     "name": "stdout",
     "output_type": "stream",
     "text": [
      "../data/SP-51.13330.2011.pdf []\n",
      "../data/SP-60.13330.2020.pdf []\n"
     ]
    }
   ],
   "source": [
    "doc_reader = DocumentReader()\n",
    "\n",
    "raw_documents = []\n",
    "processed_docs = []\n",
    "for document_path in documents:\n",
    "    with open(document_path, 'rb') as f:\n",
    "        raw_documents.append(io.BytesIO(f.read()))\n",
    "\n",
    "    processed_doc, errors = doc_reader.read(document_path)\n",
    "    print(document_path, errors)\n",
    "    processed_doc.entities = EntityProcessor.merge_text_entities(processed_doc.entities)\n",
    "    processed_doc.entities = EntityProcessor.filter_short_entities(processed_doc.entities)\n",
    "    processed_docs.append(processed_doc)\n"
   ]
  },
  {
   "cell_type": "code",
   "execution_count": 4,
   "metadata": {},
   "outputs": [
    {
     "name": "stderr",
     "output_type": "stream",
     "text": [
      "/home/atom/igor/hacks/document-search/notebooks/../document_search/search/embedders.py:11: LangChainDeprecationWarning: The class `HuggingFaceEmbeddings` was deprecated in LangChain 0.2.2 and will be removed in 1.0. An updated version of the class exists in the langchain-huggingface package and should be used instead. To use it run `pip install -U langchain-huggingface` and import as `from langchain_huggingface import HuggingFaceEmbeddings`.\n",
      "  self.embedder = HuggingFaceEmbeddings(\n",
      "/home/atom/anaconda3/envs/doc-search2/lib/python3.10/site-packages/sentence_transformers/cross_encoder/CrossEncoder.py:11: TqdmWarning: IProgress not found. Please update jupyter and ipywidgets. See https://ipywidgets.readthedocs.io/en/stable/user_install.html\n",
      "  from tqdm.autonotebook import tqdm, trange\n"
     ]
    }
   ],
   "source": [
    "from document_search.storages import DocumentStorageE5\n",
    "from document_search.search import TextEntityEmbedderE5\n",
    "\n",
    "embedder = TextEntityEmbedderE5()\n",
    "storage = DocumentStorageE5(embedder)\n"
   ]
  },
  {
   "cell_type": "code",
   "execution_count": 10,
   "metadata": {},
   "outputs": [],
   "source": [
    "for doc, raw_doc in zip(processed_docs, raw_documents):\n",
    "    storage.add_document(doc, raw_doc, pbar=True)\n"
   ]
  },
  {
   "cell_type": "code",
   "execution_count": 11,
   "metadata": {},
   "outputs": [
    {
     "data": {
      "text/plain": [
       "[(TextDocEntity(position=EntityPosition(document_name='SP-51.13330.2011.pdf', page_number=6, document_id=None), text='здания, в которых на фасаде, обращенном в сторону внешнего источника шума, установлены шумозащитные окна, снабженные специальными вентиляционными устройствами с глушителями шума;'),\n",
       "  0.96716064),\n",
       " (TextDocEntity(position=EntityPosition(document_name='SP-51.13330.2011.pdf', page_number=47, document_id=None), text='конструктивных  мер,  предусматривающих  строительство  придорожных  экранов,  установку шумозащитных окон в зданиях, расположенных в зонах неблагоприятного шумового воздействия;'),\n",
       "  0.9018868),\n",
       " (TextDocEntity(position=EntityPosition(document_name='SP-51.13330.2011.pdf', page_number=9, document_id=None), text='ограждающих  конструкций,  обеспечивающих  требуемую  звукоизоляцию  от  внутренних  и внешних источников шума;'),\n",
       "  0.8898582),\n",
       " (TextDocEntity(position=EntityPosition(document_name='SP-51.13330.2011.pdf', page_number=49, document_id=None), text='объемно-пространственной здания,  в  которых  на  фасаде,  обращенном  в  сторону  магистрали,  или  на  разных  фасадах, подверженных  воздействию  внешнего  шума,  в  помещениях  с  нормируемыми  уровнями  шума (таблица  1)  установлены  окна  повышенной  звукоизоляции,  обеспечивающие  в  режиме нормативного воздухообмена в помещениях выполнение в них норм допустимого шума. При этом нормативный  воздухообмен  может  осуществляться  либо  с  помощью  щелевых  или  иных вентиляционных клапанов, либо с помощью систем принудительной вентиляции.'),\n",
       "  0.8857522),\n",
       " (TextDocEntity(position=EntityPosition(document_name='SP-51.13330.2011.pdf', page_number=6, document_id=None), text='3.24  шумозащитные  окна:  Окна  со  специальными  вентиляционными  устройствами, обеспечивающие  повышенную  звукоизоляцию  при  одновременном  обеспечении  нормативного воздухообмена в помещении.'),\n",
       "  0.88486516)]"
      ]
     },
     "execution_count": 11,
     "metadata": {},
     "output_type": "execute_result"
    }
   ],
   "source": [
    "query = \"здания, в которых на фасаде, обращенном в сторону внешнего источника шума, установлены шумозащитные окна\"\n",
    "\n",
    "storage.get_relevant_entities(query, 5)\n"
   ]
  },
  {
   "cell_type": "code",
   "execution_count": 12,
   "metadata": {},
   "outputs": [
    {
     "data": {
      "text/plain": [
       "[(TextDocEntity(position=EntityPosition(document_name='SP-60.13330.2020.pdf', page_number=66, document_id=None), text='10.6  Через  помещение  для  вентиляционного  оборудования  не  допускается  прокладывать трубопроводы:'),\n",
       "  0.91254383),\n",
       " (TextDocEntity(position=EntityPosition(document_name='SP-60.13330.2020.pdf', page_number=77, document_id=None), text='Не  допускается  прокладка  магистральных  и  разводящих  трубопроводов  систем  отопления  и внутреннего теплоснабжения через помещения жилых квартир, а также установка в них арматуры и спускных устройств общедомовых систем.'),\n",
       "  0.8962804),\n",
       " (TextDocEntity(position=EntityPosition(document_name='SP-60.13330.2020.pdf', page_number=50, document_id=None), text='7.10.14  Оборудование  вытяжных  систем  производственных,  административно-бытовых  и общественных  зданий,  удаляющих  воздух  с  резким  или  неприятным  запахом  (из  общественных уборных,  курительных  комнат  и  др.),  не  допускается  размещать  в  общем  помещении  для вентиляционного оборудования вместе с оборудованием для приточных систем.'),\n",
       "  0.88498735),\n",
       " (TextDocEntity(position=EntityPosition(document_name='SP-60.13330.2020.pdf', page_number=48, document_id=None), text='Индивидуальное  оборудование  систем  вентиляции  квартир  в  многоквартирных  домах  не допускается размещать в местах общего пользования и межквартирных коридорах.'),\n",
       "  0.8848341),\n",
       " (TextDocEntity(position=EntityPosition(document_name='SP-60.13330.2020.pdf', page_number=55, document_id=None), text='7.11.13  Внутри  воздуховодов,  а  также  снаружи  на  расстоянии  менее  100  мм  от  их  стенок  не допускается  размещать горючими  веществами,  кабели, электропроводку,  токоотводы  и  канализационные  трубопроводы.  Не  допускается  пересечение воздуховодов этими коммуникациями и  другими воздуховодами. В шахтах с  воздуховодами систем вентиляции не допускается прокладывать трубопроводы бытовой и производственной канализации.'),\n",
       "  0.8835836)]"
      ]
     },
     "execution_count": 12,
     "metadata": {},
     "output_type": "execute_result"
    }
   ],
   "source": [
    "query = \"какие трубопроводы не допускается прокладывать через помещения вентиляционного оборудования?\"\n",
    "\n",
    "storage.get_relevant_entities(query, 5)\n"
   ]
  },
  {
   "cell_type": "code",
   "execution_count": null,
   "metadata": {},
   "outputs": [],
   "source": []
  },
  {
   "cell_type": "code",
   "execution_count": null,
   "metadata": {},
   "outputs": [],
   "source": []
  }
 ],
 "metadata": {
  "kernelspec": {
   "display_name": "venv",
   "language": "python",
   "name": "python3"
  },
  "language_info": {
   "codemirror_mode": {
    "name": "ipython",
    "version": 3
   },
   "file_extension": ".py",
   "mimetype": "text/x-python",
   "name": "python",
   "nbconvert_exporter": "python",
   "pygments_lexer": "ipython3",
   "version": "3.10.14"
  }
 },
 "nbformat": 4,
 "nbformat_minor": 2
}
