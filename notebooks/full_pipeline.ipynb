{
 "cells": [
  {
   "cell_type": "code",
   "execution_count": 2,
   "metadata": {},
   "outputs": [],
   "source": [
    "import sys\n",
    "sys.path.append(\"../\")\n",
    "\n",
    "from document_search.ocr import DocumentReader\n"
   ]
  },
  {
   "cell_type": "code",
   "execution_count": 3,
   "metadata": {},
   "outputs": [],
   "source": [
    "documents = [\n",
    "    \"../data/SP-51.13330.2011.pdf\",\n",
    "    \"../data/SP-60.13330.2020.pdf\"\n",
    "]\n"
   ]
  },
  {
   "cell_type": "code",
   "execution_count": 4,
   "metadata": {},
   "outputs": [],
   "source": [
    "doc_reader = DocumentReader()\n",
    "\n",
    "processed_docs = []\n",
    "for document_path in documents:\n",
    "    processed_doc, errors = doc_reader.process_pdf(document_path)\n",
    "    processed_docs.append(processed_doc)\n"
   ]
  },
  {
   "cell_type": "code",
   "execution_count": 6,
   "metadata": {},
   "outputs": [
    {
     "name": "stderr",
     "output_type": "stream",
     "text": [
      "/home/atom/igor/hacks/document-search/notebooks/../document_search/search/embedders.py:11: LangChainDeprecationWarning: The class `HuggingFaceEmbeddings` was deprecated in LangChain 0.2.2 and will be removed in 1.0. An updated version of the class exists in the langchain-huggingface package and should be used instead. To use it run `pip install -U langchain-huggingface` and import as `from langchain_huggingface import HuggingFaceEmbeddings`.\n",
      "  self.embedder = HuggingFaceEmbeddings(\n",
      "/home/atom/anaconda3/envs/doc-search2/lib/python3.10/site-packages/sentence_transformers/cross_encoder/CrossEncoder.py:11: TqdmWarning: IProgress not found. Please update jupyter and ipywidgets. See https://ipywidgets.readthedocs.io/en/stable/user_install.html\n",
      "  from tqdm.autonotebook import tqdm, trange\n"
     ]
    }
   ],
   "source": [
    "from document_search.storages import DocumentStorageE5\n",
    "from document_search.search import TextEntityEmbedderE5\n",
    "\n",
    "embedder = TextEntityEmbedderE5()\n",
    "storage = DocumentStorageE5(embedder)\n"
   ]
  },
  {
   "cell_type": "code",
   "execution_count": 10,
   "metadata": {},
   "outputs": [
    {
     "name": "stderr",
     "output_type": "stream",
     "text": [
      "196it [01:19,  2.46it/s]                         \n"
     ]
    }
   ],
   "source": [
    "for doc in processed_docs:\n",
    "    storage.add_document(doc, pbar=True)\n"
   ]
  },
  {
   "cell_type": "code",
   "execution_count": 11,
   "metadata": {},
   "outputs": [
    {
     "data": {
      "text/plain": [
       "[TextDocEntity(position=EntityPosition(document_name='SP-51.13330.2011', page_number=6), text='здания, в которых на фасаде, обращенном в сторону внешнего источника шума, установлены шумозащитные окна, снабженные специальными вентиляционными устройствами с глушителями шума;'),\n",
       " TextDocEntity(position=EntityPosition(document_name='SP-51.13330.2011', page_number=47), text='конструктивных  мер,  предусматривающих  строительство  придорожных  экранов,  установку шумозащитных окон в зданиях, расположенных в зонах неблагоприятного шумового воздействия;'),\n",
       " TextDocEntity(position=EntityPosition(document_name='SP-51.13330.2011', page_number=47), text='размещения шумозащитных зданий вдоль транспортных магистралей и маршрутов движения'),\n",
       " TextDocEntity(position=EntityPosition(document_name='SP-51.13330.2011', page_number=49), text='здания,  в  которых  на  фасаде,  обращенном  в  сторону  магистрали,  или  на  разных  фасадах, подверженных  воздействию  внешнего  шума,  в  помещениях  с  нормируемыми  уровнями  шума (таблица  1)  установлены  окна  повышенной  звукоизоляции,  обеспечивающие  в  режиме нормативного воздухообмена в помещениях выполнение в них норм допустимого шума. При этом нормативный  воздухообмен  может  осуществляться  либо  с  помощью  щелевых  или  иных вентиляционных клапанов, либо с помощью систем принудительной вентиляции.'),\n",
       " TextDocEntity(position=EntityPosition(document_name='SP-51.13330.2011', page_number=9), text='строительство шумозащитных зданий;')]"
      ]
     },
     "execution_count": 11,
     "metadata": {},
     "output_type": "execute_result"
    }
   ],
   "source": [
    "query = \"здания, в которых на фасаде, обращенном в сторону внешнего источника шума, установлены шумозащитные окна\"\n",
    "\n",
    "storage.get_relevant_entities(query, 5)\n"
   ]
  },
  {
   "cell_type": "code",
   "execution_count": 12,
   "metadata": {},
   "outputs": [
    {
     "data": {
      "text/plain": [
       "[TextDocEntity(position=EntityPosition(document_name='SP-60.13330.2020', page_number=66), text='10.6  Через  помещение  для  вентиляционного  оборудования  не  допускается  прокладывать'),\n",
       " TextDocEntity(position=EntityPosition(document_name='SP-60.13330.2020', page_number=60), text='Применение трубопроводов систем холодоснабжения с внутренней оцинковкой не допускается'),\n",
       " TextDocEntity(position=EntityPosition(document_name='SP-60.13330.2020', page_number=77), text='Не  допускается  прокладка  магистральных  и  разводящих  трубопроводов  систем  отопления  и внутреннего теплоснабжения через помещения жилых квартир, а также установка в них арматуры и спускных устройств общедомовых систем.'),\n",
       " TextDocEntity(position=EntityPosition(document_name='SP-60.13330.2020', page_number=50), text='7.10.14  Оборудование  вытяжных  систем  производственных,  административно-бытовых  и общественных  зданий,  удаляющих  воздух  с  резким  или  неприятным  запахом  (из  общественных уборных,  курительных  комнат  и  др.),  не  допускается  размещать  в  общем  помещении  для вентиляционного оборудования вместе с оборудованием для приточных систем.'),\n",
       " TextDocEntity(position=EntityPosition(document_name='SP-60.13330.2020', page_number=55), text='7.11.13  Внутри  воздуховодов,  а  также  снаружи  на  расстоянии  менее  100  мм  от  их  стенок  не допускается  размещать горючими  веществами,  кабели, электропроводку,  токоотводы  и  канализационные  трубопроводы.  Не  допускается  пересечение воздуховодов этими коммуникациями и  другими воздуховодами. В шахтах с  воздуховодами систем вентиляции не допускается прокладывать трубопроводы бытовой и производственной канализации.')]"
      ]
     },
     "execution_count": 12,
     "metadata": {},
     "output_type": "execute_result"
    }
   ],
   "source": [
    "query = \"какие трубопроводы не допускается прокладывать через помещения вентиляционного оборудования?\"\n",
    "\n",
    "storage.get_relevant_entities(query, 5)\n"
   ]
  },
  {
   "cell_type": "code",
   "execution_count": null,
   "metadata": {},
   "outputs": [],
   "source": []
  },
  {
   "cell_type": "code",
   "execution_count": null,
   "metadata": {},
   "outputs": [],
   "source": []
  }
 ],
 "metadata": {
  "kernelspec": {
   "display_name": "venv",
   "language": "python",
   "name": "python3"
  },
  "language_info": {
   "codemirror_mode": {
    "name": "ipython",
    "version": 3
   },
   "file_extension": ".py",
   "mimetype": "text/x-python",
   "name": "python",
   "nbconvert_exporter": "python",
   "pygments_lexer": "ipython3",
   "version": "3.10.14"
  }
 },
 "nbformat": 4,
 "nbformat_minor": 2
}
