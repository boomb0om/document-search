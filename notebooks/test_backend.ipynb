{
 "cells": [
  {
   "cell_type": "code",
   "execution_count": 10,
   "metadata": {},
   "outputs": [],
   "source": [
    "import sys\n",
    "import os\n",
    "sys.path.append(\"../\")\n"
   ]
  },
  {
   "cell_type": "code",
   "execution_count": 1,
   "metadata": {},
   "outputs": [],
   "source": [
    "import requests\n"
   ]
  },
  {
   "cell_type": "markdown",
   "metadata": {},
   "source": [
    "## Add document"
   ]
  },
  {
   "cell_type": "code",
   "execution_count": 61,
   "metadata": {},
   "outputs": [
    {
     "name": "stdout",
     "output_type": "stream",
     "text": [
      "<Response [200]>\n"
     ]
    },
    {
     "data": {
      "text/plain": [
       "'bdf083d357e04331b73761f0547e702a'"
      ]
     },
     "execution_count": 61,
     "metadata": {},
     "output_type": "execute_result"
    }
   ],
   "source": [
    "with open('../data/SP-60.13330.2020.pdf', 'rb') as f:\n",
    "    resp = requests.put('http://localhost:8005/documents/add/', files={'file': f})\n",
    "\n",
    "print(resp)\n",
    "doc_id = resp.json()['documentID']\n",
    "doc_id\n"
   ]
  },
  {
   "cell_type": "code",
   "execution_count": 63,
   "metadata": {},
   "outputs": [
    {
     "name": "stdout",
     "output_type": "stream",
     "text": [
      "{'status': 'Added'}\n"
     ]
    }
   ],
   "source": [
    "resp = requests.get('http://localhost:8005/documents/status/', params={'documentID': doc_id})\n",
    "print(resp.json())\n"
   ]
  },
  {
   "cell_type": "markdown",
   "metadata": {},
   "source": [
    "## Get storage info"
   ]
  },
  {
   "cell_type": "code",
   "execution_count": 64,
   "metadata": {},
   "outputs": [
    {
     "name": "stdout",
     "output_type": "stream",
     "text": [
      "{'items': [{'document_id': 'bdf083d357e04331b73761f0547e702a', 'document_filename': 'SP-60.13330.2020.pdf', 'num_pages': 122}], 'total_documents': 1}\n"
     ]
    }
   ],
   "source": [
    "resp = requests.get('http://localhost:8005/documents/storage_info/')\n",
    "print(resp.json())\n"
   ]
  },
  {
   "cell_type": "markdown",
   "metadata": {},
   "source": [
    "## Search"
   ]
  },
  {
   "cell_type": "code",
   "execution_count": 65,
   "metadata": {},
   "outputs": [
    {
     "data": {
      "text/plain": [
       "{'query': 'какие трубопроводы не допускается прокладывать через помещения вентиляционного оборудования?',\n",
       " 'results': [{'document_id': 'bdf083d357e04331b73761f0547e702a',\n",
       "   'page': 66,\n",
       "   'text': '10.6  Через  помещение  для  вентиляционного  оборудования  не  допускается  прокладывать трубопроводы:',\n",
       "   'relevance_score': 0.9125438332557678},\n",
       "  {'document_id': 'bdf083d357e04331b73761f0547e702a',\n",
       "   'page': 77,\n",
       "   'text': 'Не  допускается  прокладка  магистральных  и  разводящих  трубопроводов  систем  отопления  и внутреннего теплоснабжения через помещения жилых квартир, а также установка в них арматуры и спускных устройств общедомовых систем.',\n",
       "   'relevance_score': 0.8962804079055786},\n",
       "  {'document_id': 'bdf083d357e04331b73761f0547e702a',\n",
       "   'page': 50,\n",
       "   'text': '7.10.14  Оборудование  вытяжных  систем  производственных,  административно-бытовых  и общественных  зданий,  удаляющих  воздух  с  резким  или  неприятным  запахом  (из  общественных уборных,  курительных  комнат  и  др.),  не  допускается  размещать  в  общем  помещении  для вентиляционного оборудования вместе с оборудованием для приточных систем.',\n",
       "   'relevance_score': 0.8849873542785645},\n",
       "  {'document_id': 'bdf083d357e04331b73761f0547e702a',\n",
       "   'page': 48,\n",
       "   'text': 'Индивидуальное  оборудование  систем  вентиляции  квартир  в  многоквартирных  домах  не допускается размещать в местах общего пользования и межквартирных коридорах.',\n",
       "   'relevance_score': 0.8848341107368469},\n",
       "  {'document_id': 'bdf083d357e04331b73761f0547e702a',\n",
       "   'page': 55,\n",
       "   'text': '7.11.13  Внутри  воздуховодов,  а  также  снаружи  на  расстоянии  менее  100  мм  от  их  стенок  не допускается  размещать горючими  веществами,  кабели, электропроводку,  токоотводы  и  канализационные  трубопроводы.  Не  допускается  пересечение воздуховодов этими коммуникациями и  другими воздуховодами. В шахтах с  воздуховодами систем вентиляции не допускается прокладывать трубопроводы бытовой и производственной канализации.',\n",
       "   'relevance_score': 0.8835836052894592}]}"
      ]
     },
     "execution_count": 65,
     "metadata": {},
     "output_type": "execute_result"
    }
   ],
   "source": [
    "query = \"какие трубопроводы не допускается прокладывать через помещения вентиляционного оборудования?\"\n",
    "\n",
    "resp = requests.post(\n",
    "    'http://localhost:8005/search/query/',\n",
    "    json={'query': query},\n",
    ")\n",
    "resp.json()\n"
   ]
  },
  {
   "cell_type": "code",
   "execution_count": null,
   "metadata": {},
   "outputs": [],
   "source": []
  }
 ],
 "metadata": {
  "kernelspec": {
   "display_name": "venv",
   "language": "python",
   "name": "python3"
  },
  "language_info": {
   "codemirror_mode": {
    "name": "ipython",
    "version": 3
   },
   "file_extension": ".py",
   "mimetype": "text/x-python",
   "name": "python",
   "nbconvert_exporter": "python",
   "pygments_lexer": "ipython3",
   "version": "3.10.14"
  }
 },
 "nbformat": 4,
 "nbformat_minor": 2
}
